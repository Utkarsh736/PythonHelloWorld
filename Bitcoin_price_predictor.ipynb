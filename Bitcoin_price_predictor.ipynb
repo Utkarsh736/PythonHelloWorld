{
  "nbformat": 4,
  "nbformat_minor": 0,
  "metadata": {
    "colab": {
      "name": "Bitcoin_price_predictor.ipynb",
      "provenance": [],
      "authorship_tag": "ABX9TyPivg+84aVpTJMP80+boyDd",
      "include_colab_link": true
    },
    "kernelspec": {
      "name": "python3",
      "display_name": "Python 3"
    }
  },
  "cells": [
    {
      "cell_type": "markdown",
      "metadata": {
        "id": "view-in-github",
        "colab_type": "text"
      },
      "source": [
        "<a href=\"https://colab.research.google.com/github/Utkarsh736/PythonHelloWorld/blob/master/Bitcoin_price_predictor.ipynb\" target=\"_parent\"><img src=\"https://colab.research.google.com/assets/colab-badge.svg\" alt=\"Open In Colab\"/></a>"
      ]
    },
    {
      "cell_type": "code",
      "metadata": {
        "id": "bZoT_0nqORcY"
      },
      "source": [
        "# Description : This program predicts the price of Bitcoin for the next 30 days "
      ],
      "execution_count": null,
      "outputs": []
    },
    {
      "cell_type": "code",
      "metadata": {
        "id": "rQ4S8tCI2poH"
      },
      "source": [
        "#Import the libraries\n",
        "import pandas as pd\n",
        "import numpy as np\n",
        "\n",
        "\n",
        "\n",
        "def clean_dataset(df):\n",
        "    assert isinstance(df, pd.DataFrame), \"df needs to be a pd.DataFrame\"\n",
        "    df.dropna(inplace=True)\n",
        "    indices_to_keep = ~df.isin([np.nan, np.inf, -np.inf]).any(1)\n",
        "    return df[indices_to_keep].astype(np.float64)"
      ],
      "execution_count": null,
      "outputs": []
    },
    {
      "cell_type": "code",
      "metadata": {
        "id": "yhT1dyOy3VGc",
        "outputId": "922e8935-afa7-456e-ce70-1a0ab23e9bd2",
        "colab": {
          "resources": {
            "http://localhost:8080/nbextensions/google.colab/files.js": {
              "data": "Ly8gQ29weXJpZ2h0IDIwMTcgR29vZ2xlIExMQwovLwovLyBMaWNlbnNlZCB1bmRlciB0aGUgQXBhY2hlIExpY2Vuc2UsIFZlcnNpb24gMi4wICh0aGUgIkxpY2Vuc2UiKTsKLy8geW91IG1heSBub3QgdXNlIHRoaXMgZmlsZSBleGNlcHQgaW4gY29tcGxpYW5jZSB3aXRoIHRoZSBMaWNlbnNlLgovLyBZb3UgbWF5IG9idGFpbiBhIGNvcHkgb2YgdGhlIExpY2Vuc2UgYXQKLy8KLy8gICAgICBodHRwOi8vd3d3LmFwYWNoZS5vcmcvbGljZW5zZXMvTElDRU5TRS0yLjAKLy8KLy8gVW5sZXNzIHJlcXVpcmVkIGJ5IGFwcGxpY2FibGUgbGF3IG9yIGFncmVlZCB0byBpbiB3cml0aW5nLCBzb2Z0d2FyZQovLyBkaXN0cmlidXRlZCB1bmRlciB0aGUgTGljZW5zZSBpcyBkaXN0cmlidXRlZCBvbiBhbiAiQVMgSVMiIEJBU0lTLAovLyBXSVRIT1VUIFdBUlJBTlRJRVMgT1IgQ09ORElUSU9OUyBPRiBBTlkgS0lORCwgZWl0aGVyIGV4cHJlc3Mgb3IgaW1wbGllZC4KLy8gU2VlIHRoZSBMaWNlbnNlIGZvciB0aGUgc3BlY2lmaWMgbGFuZ3VhZ2UgZ292ZXJuaW5nIHBlcm1pc3Npb25zIGFuZAovLyBsaW1pdGF0aW9ucyB1bmRlciB0aGUgTGljZW5zZS4KCi8qKgogKiBAZmlsZW92ZXJ2aWV3IEhlbHBlcnMgZm9yIGdvb2dsZS5jb2xhYiBQeXRob24gbW9kdWxlLgogKi8KKGZ1bmN0aW9uKHNjb3BlKSB7CmZ1bmN0aW9uIHNwYW4odGV4dCwgc3R5bGVBdHRyaWJ1dGVzID0ge30pIHsKICBjb25zdCBlbGVtZW50ID0gZG9jdW1lbnQuY3JlYXRlRWxlbWVudCgnc3BhbicpOwogIGVsZW1lbnQudGV4dENvbnRlbnQgPSB0ZXh0OwogIGZvciAoY29uc3Qga2V5IG9mIE9iamVjdC5rZXlzKHN0eWxlQXR0cmlidXRlcykpIHsKICAgIGVsZW1lbnQuc3R5bGVba2V5XSA9IHN0eWxlQXR0cmlidXRlc1trZXldOwogIH0KICByZXR1cm4gZWxlbWVudDsKfQoKLy8gTWF4IG51bWJlciBvZiBieXRlcyB3aGljaCB3aWxsIGJlIHVwbG9hZGVkIGF0IGEgdGltZS4KY29uc3QgTUFYX1BBWUxPQURfU0laRSA9IDEwMCAqIDEwMjQ7CgpmdW5jdGlvbiBfdXBsb2FkRmlsZXMoaW5wdXRJZCwgb3V0cHV0SWQpIHsKICBjb25zdCBzdGVwcyA9IHVwbG9hZEZpbGVzU3RlcChpbnB1dElkLCBvdXRwdXRJZCk7CiAgY29uc3Qgb3V0cHV0RWxlbWVudCA9IGRvY3VtZW50LmdldEVsZW1lbnRCeUlkKG91dHB1dElkKTsKICAvLyBDYWNoZSBzdGVwcyBvbiB0aGUgb3V0cHV0RWxlbWVudCB0byBtYWtlIGl0IGF2YWlsYWJsZSBmb3IgdGhlIG5leHQgY2FsbAogIC8vIHRvIHVwbG9hZEZpbGVzQ29udGludWUgZnJvbSBQeXRob24uCiAgb3V0cHV0RWxlbWVudC5zdGVwcyA9IHN0ZXBzOwoKICByZXR1cm4gX3VwbG9hZEZpbGVzQ29udGludWUob3V0cHV0SWQpOwp9CgovLyBUaGlzIGlzIHJvdWdobHkgYW4gYXN5bmMgZ2VuZXJhdG9yIChub3Qgc3VwcG9ydGVkIGluIHRoZSBicm93c2VyIHlldCksCi8vIHdoZXJlIHRoZXJlIGFyZSBtdWx0aXBsZSBhc3luY2hyb25vdXMgc3RlcHMgYW5kIHRoZSBQeXRob24gc2lkZSBpcyBnb2luZwovLyB0byBwb2xsIGZvciBjb21wbGV0aW9uIG9mIGVhY2ggc3RlcC4KLy8gVGhpcyB1c2VzIGEgUHJvbWlzZSB0byBibG9jayB0aGUgcHl0aG9uIHNpZGUgb24gY29tcGxldGlvbiBvZiBlYWNoIHN0ZXAsCi8vIHRoZW4gcGFzc2VzIHRoZSByZXN1bHQgb2YgdGhlIHByZXZpb3VzIHN0ZXAgYXMgdGhlIGlucHV0IHRvIHRoZSBuZXh0IHN0ZXAuCmZ1bmN0aW9uIF91cGxvYWRGaWxlc0NvbnRpbnVlKG91dHB1dElkKSB7CiAgY29uc3Qgb3V0cHV0RWxlbWVudCA9IGRvY3VtZW50LmdldEVsZW1lbnRCeUlkKG91dHB1dElkKTsKICBjb25zdCBzdGVwcyA9IG91dHB1dEVsZW1lbnQuc3RlcHM7CgogIGNvbnN0IG5leHQgPSBzdGVwcy5uZXh0KG91dHB1dEVsZW1lbnQubGFzdFByb21pc2VWYWx1ZSk7CiAgcmV0dXJuIFByb21pc2UucmVzb2x2ZShuZXh0LnZhbHVlLnByb21pc2UpLnRoZW4oKHZhbHVlKSA9PiB7CiAgICAvLyBDYWNoZSB0aGUgbGFzdCBwcm9taXNlIHZhbHVlIHRvIG1ha2UgaXQgYXZhaWxhYmxlIHRvIHRoZSBuZXh0CiAgICAvLyBzdGVwIG9mIHRoZSBnZW5lcmF0b3IuCiAgICBvdXRwdXRFbGVtZW50Lmxhc3RQcm9taXNlVmFsdWUgPSB2YWx1ZTsKICAgIHJldHVybiBuZXh0LnZhbHVlLnJlc3BvbnNlOwogIH0pOwp9CgovKioKICogR2VuZXJhdG9yIGZ1bmN0aW9uIHdoaWNoIGlzIGNhbGxlZCBiZXR3ZWVuIGVhY2ggYXN5bmMgc3RlcCBvZiB0aGUgdXBsb2FkCiAqIHByb2Nlc3MuCiAqIEBwYXJhbSB7c3RyaW5nfSBpbnB1dElkIEVsZW1lbnQgSUQgb2YgdGhlIGlucHV0IGZpbGUgcGlja2VyIGVsZW1lbnQuCiAqIEBwYXJhbSB7c3RyaW5nfSBvdXRwdXRJZCBFbGVtZW50IElEIG9mIHRoZSBvdXRwdXQgZGlzcGxheS4KICogQHJldHVybiB7IUl0ZXJhYmxlPCFPYmplY3Q+fSBJdGVyYWJsZSBvZiBuZXh0IHN0ZXBzLgogKi8KZnVuY3Rpb24qIHVwbG9hZEZpbGVzU3RlcChpbnB1dElkLCBvdXRwdXRJZCkgewogIGNvbnN0IGlucHV0RWxlbWVudCA9IGRvY3VtZW50LmdldEVsZW1lbnRCeUlkKGlucHV0SWQpOwogIGlucHV0RWxlbWVudC5kaXNhYmxlZCA9IGZhbHNlOwoKICBjb25zdCBvdXRwdXRFbGVtZW50ID0gZG9jdW1lbnQuZ2V0RWxlbWVudEJ5SWQob3V0cHV0SWQpOwogIG91dHB1dEVsZW1lbnQuaW5uZXJIVE1MID0gJyc7CgogIGNvbnN0IHBpY2tlZFByb21pc2UgPSBuZXcgUHJvbWlzZSgocmVzb2x2ZSkgPT4gewogICAgaW5wdXRFbGVtZW50LmFkZEV2ZW50TGlzdGVuZXIoJ2NoYW5nZScsIChlKSA9PiB7CiAgICAgIHJlc29sdmUoZS50YXJnZXQuZmlsZXMpOwogICAgfSk7CiAgfSk7CgogIGNvbnN0IGNhbmNlbCA9IGRvY3VtZW50LmNyZWF0ZUVsZW1lbnQoJ2J1dHRvbicpOwogIGlucHV0RWxlbWVudC5wYXJlbnRFbGVtZW50LmFwcGVuZENoaWxkKGNhbmNlbCk7CiAgY2FuY2VsLnRleHRDb250ZW50ID0gJ0NhbmNlbCB1cGxvYWQnOwogIGNvbnN0IGNhbmNlbFByb21pc2UgPSBuZXcgUHJvbWlzZSgocmVzb2x2ZSkgPT4gewogICAgY2FuY2VsLm9uY2xpY2sgPSAoKSA9PiB7CiAgICAgIHJlc29sdmUobnVsbCk7CiAgICB9OwogIH0pOwoKICAvLyBXYWl0IGZvciB0aGUgdXNlciB0byBwaWNrIHRoZSBmaWxlcy4KICBjb25zdCBmaWxlcyA9IHlpZWxkIHsKICAgIHByb21pc2U6IFByb21pc2UucmFjZShbcGlja2VkUHJvbWlzZSwgY2FuY2VsUHJvbWlzZV0pLAogICAgcmVzcG9uc2U6IHsKICAgICAgYWN0aW9uOiAnc3RhcnRpbmcnLAogICAgfQogIH07CgogIGNhbmNlbC5yZW1vdmUoKTsKCiAgLy8gRGlzYWJsZSB0aGUgaW5wdXQgZWxlbWVudCBzaW5jZSBmdXJ0aGVyIHBpY2tzIGFyZSBub3QgYWxsb3dlZC4KICBpbnB1dEVsZW1lbnQuZGlzYWJsZWQgPSB0cnVlOwoKICBpZiAoIWZpbGVzKSB7CiAgICByZXR1cm4gewogICAgICByZXNwb25zZTogewogICAgICAgIGFjdGlvbjogJ2NvbXBsZXRlJywKICAgICAgfQogICAgfTsKICB9CgogIGZvciAoY29uc3QgZmlsZSBvZiBmaWxlcykgewogICAgY29uc3QgbGkgPSBkb2N1bWVudC5jcmVhdGVFbGVtZW50KCdsaScpOwogICAgbGkuYXBwZW5kKHNwYW4oZmlsZS5uYW1lLCB7Zm9udFdlaWdodDogJ2JvbGQnfSkpOwogICAgbGkuYXBwZW5kKHNwYW4oCiAgICAgICAgYCgke2ZpbGUudHlwZSB8fCAnbi9hJ30pIC0gJHtmaWxlLnNpemV9IGJ5dGVzLCBgICsKICAgICAgICBgbGFzdCBtb2RpZmllZDogJHsKICAgICAgICAgICAgZmlsZS5sYXN0TW9kaWZpZWREYXRlID8gZmlsZS5sYXN0TW9kaWZpZWREYXRlLnRvTG9jYWxlRGF0ZVN0cmluZygpIDoKICAgICAgICAgICAgICAgICAgICAgICAgICAgICAgICAgICAgJ24vYSd9IC0gYCkpOwogICAgY29uc3QgcGVyY2VudCA9IHNwYW4oJzAlIGRvbmUnKTsKICAgIGxpLmFwcGVuZENoaWxkKHBlcmNlbnQpOwoKICAgIG91dHB1dEVsZW1lbnQuYXBwZW5kQ2hpbGQobGkpOwoKICAgIGNvbnN0IGZpbGVEYXRhUHJvbWlzZSA9IG5ldyBQcm9taXNlKChyZXNvbHZlKSA9PiB7CiAgICAgIGNvbnN0IHJlYWRlciA9IG5ldyBGaWxlUmVhZGVyKCk7CiAgICAgIHJlYWRlci5vbmxvYWQgPSAoZSkgPT4gewogICAgICAgIHJlc29sdmUoZS50YXJnZXQucmVzdWx0KTsKICAgICAgfTsKICAgICAgcmVhZGVyLnJlYWRBc0FycmF5QnVmZmVyKGZpbGUpOwogICAgfSk7CiAgICAvLyBXYWl0IGZvciB0aGUgZGF0YSB0byBiZSByZWFkeS4KICAgIGxldCBmaWxlRGF0YSA9IHlpZWxkIHsKICAgICAgcHJvbWlzZTogZmlsZURhdGFQcm9taXNlLAogICAgICByZXNwb25zZTogewogICAgICAgIGFjdGlvbjogJ2NvbnRpbnVlJywKICAgICAgfQogICAgfTsKCiAgICAvLyBVc2UgYSBjaHVua2VkIHNlbmRpbmcgdG8gYXZvaWQgbWVzc2FnZSBzaXplIGxpbWl0cy4gU2VlIGIvNjIxMTU2NjAuCiAgICBsZXQgcG9zaXRpb24gPSAwOwogICAgd2hpbGUgKHBvc2l0aW9uIDwgZmlsZURhdGEuYnl0ZUxlbmd0aCkgewogICAgICBjb25zdCBsZW5ndGggPSBNYXRoLm1pbihmaWxlRGF0YS5ieXRlTGVuZ3RoIC0gcG9zaXRpb24sIE1BWF9QQVlMT0FEX1NJWkUpOwogICAgICBjb25zdCBjaHVuayA9IG5ldyBVaW50OEFycmF5KGZpbGVEYXRhLCBwb3NpdGlvbiwgbGVuZ3RoKTsKICAgICAgcG9zaXRpb24gKz0gbGVuZ3RoOwoKICAgICAgY29uc3QgYmFzZTY0ID0gYnRvYShTdHJpbmcuZnJvbUNoYXJDb2RlLmFwcGx5KG51bGwsIGNodW5rKSk7CiAgICAgIHlpZWxkIHsKICAgICAgICByZXNwb25zZTogewogICAgICAgICAgYWN0aW9uOiAnYXBwZW5kJywKICAgICAgICAgIGZpbGU6IGZpbGUubmFtZSwKICAgICAgICAgIGRhdGE6IGJhc2U2NCwKICAgICAgICB9LAogICAgICB9OwogICAgICBwZXJjZW50LnRleHRDb250ZW50ID0KICAgICAgICAgIGAke01hdGgucm91bmQoKHBvc2l0aW9uIC8gZmlsZURhdGEuYnl0ZUxlbmd0aCkgKiAxMDApfSUgZG9uZWA7CiAgICB9CiAgfQoKICAvLyBBbGwgZG9uZS4KICB5aWVsZCB7CiAgICByZXNwb25zZTogewogICAgICBhY3Rpb246ICdjb21wbGV0ZScsCiAgICB9CiAgfTsKfQoKc2NvcGUuZ29vZ2xlID0gc2NvcGUuZ29vZ2xlIHx8IHt9OwpzY29wZS5nb29nbGUuY29sYWIgPSBzY29wZS5nb29nbGUuY29sYWIgfHwge307CnNjb3BlLmdvb2dsZS5jb2xhYi5fZmlsZXMgPSB7CiAgX3VwbG9hZEZpbGVzLAogIF91cGxvYWRGaWxlc0NvbnRpbnVlLAp9Owp9KShzZWxmKTsK",
              "ok": true,
              "headers": [
                [
                  "content-type",
                  "application/javascript"
                ]
              ],
              "status": 200,
              "status_text": ""
            }
          },
          "base_uri": "https://localhost:8080/",
          "height": 73
        }
      },
      "source": [
        "#Load the data\n",
        "from google.colab import files\n",
        "uploaded = files.upload()"
      ],
      "execution_count": null,
      "outputs": [
        {
          "output_type": "display_data",
          "data": {
            "text/html": [
              "\n",
              "     <input type=\"file\" id=\"files-f15149a0-2ea0-4ee0-9795-02ef47604c08\" name=\"files[]\" multiple disabled\n",
              "        style=\"border:none\" />\n",
              "     <output id=\"result-f15149a0-2ea0-4ee0-9795-02ef47604c08\">\n",
              "      Upload widget is only available when the cell has been executed in the\n",
              "      current browser session. Please rerun this cell to enable.\n",
              "      </output>\n",
              "      <script src=\"/nbextensions/google.colab/files.js\"></script> "
            ],
            "text/plain": [
              "<IPython.core.display.HTML object>"
            ]
          },
          "metadata": {
            "tags": []
          }
        },
        {
          "output_type": "stream",
          "text": [
            "Saving Bitcoins1.csv to Bitcoins1 (1).csv\n"
          ],
          "name": "stdout"
        }
      ]
    },
    {
      "cell_type": "code",
      "metadata": {
        "id": "tDv81DJxJqlO",
        "outputId": "4816b188-e970-4a86-91b0-9b2051b36ea8",
        "colab": {
          "base_uri": "https://localhost:8080/",
          "height": 263
        }
      },
      "source": [
        "#Store the data into a variable \n",
        "df= pd.read_csv('Bitcoins1.csv')\n",
        "df.head(7)"
      ],
      "execution_count": null,
      "outputs": [
        {
          "output_type": "execute_result",
          "data": {
            "text/html": [
              "<div>\n",
              "<style scoped>\n",
              "    .dataframe tbody tr th:only-of-type {\n",
              "        vertical-align: middle;\n",
              "    }\n",
              "\n",
              "    .dataframe tbody tr th {\n",
              "        vertical-align: top;\n",
              "    }\n",
              "\n",
              "    .dataframe thead th {\n",
              "        text-align: right;\n",
              "    }\n",
              "</style>\n",
              "<table border=\"1\" class=\"dataframe\">\n",
              "  <thead>\n",
              "    <tr style=\"text-align: right;\">\n",
              "      <th></th>\n",
              "      <th>Date</th>\n",
              "      <th>Open</th>\n",
              "      <th>High</th>\n",
              "      <th>Low</th>\n",
              "      <th>Close</th>\n",
              "      <th>Adj Close</th>\n",
              "      <th>Volume</th>\n",
              "    </tr>\n",
              "  </thead>\n",
              "  <tbody>\n",
              "    <tr>\n",
              "      <th>0</th>\n",
              "      <td>22-10-2019</td>\n",
              "      <td>8243.402344</td>\n",
              "      <td>8296.651367</td>\n",
              "      <td>8074.462891</td>\n",
              "      <td>8078.203125</td>\n",
              "      <td>8078.203125</td>\n",
              "      <td>16803377856</td>\n",
              "    </tr>\n",
              "    <tr>\n",
              "      <th>1</th>\n",
              "      <td>23-10-2019</td>\n",
              "      <td>8076.228516</td>\n",
              "      <td>8092.999512</td>\n",
              "      <td>7469.322754</td>\n",
              "      <td>7514.671875</td>\n",
              "      <td>7514.671875</td>\n",
              "      <td>21942878957</td>\n",
              "    </tr>\n",
              "    <tr>\n",
              "      <th>2</th>\n",
              "      <td>24-10-2019</td>\n",
              "      <td>7509.728027</td>\n",
              "      <td>7532.867676</td>\n",
              "      <td>7446.988770</td>\n",
              "      <td>7493.488770</td>\n",
              "      <td>7493.488770</td>\n",
              "      <td>16268708848</td>\n",
              "    </tr>\n",
              "    <tr>\n",
              "      <th>3</th>\n",
              "      <td>25-10-2019</td>\n",
              "      <td>7490.703125</td>\n",
              "      <td>8691.540039</td>\n",
              "      <td>7479.984375</td>\n",
              "      <td>8660.700195</td>\n",
              "      <td>8660.700195</td>\n",
              "      <td>28705065488</td>\n",
              "    </tr>\n",
              "    <tr>\n",
              "      <th>4</th>\n",
              "      <td>26-10-2019</td>\n",
              "      <td>8667.577148</td>\n",
              "      <td>10021.744140</td>\n",
              "      <td>8662.622070</td>\n",
              "      <td>9244.972656</td>\n",
              "      <td>9244.972656</td>\n",
              "      <td>44496255608</td>\n",
              "    </tr>\n",
              "    <tr>\n",
              "      <th>5</th>\n",
              "      <td>27-10-2019</td>\n",
              "      <td>9241.707031</td>\n",
              "      <td>9749.529297</td>\n",
              "      <td>9112.541992</td>\n",
              "      <td>9551.714844</td>\n",
              "      <td>9551.714844</td>\n",
              "      <td>32593129500</td>\n",
              "    </tr>\n",
              "    <tr>\n",
              "      <th>6</th>\n",
              "      <td>28-10-2019</td>\n",
              "      <td>9565.101563</td>\n",
              "      <td>9805.118164</td>\n",
              "      <td>9256.148438</td>\n",
              "      <td>9256.148438</td>\n",
              "      <td>9256.148438</td>\n",
              "      <td>30948255331</td>\n",
              "    </tr>\n",
              "  </tbody>\n",
              "</table>\n",
              "</div>"
            ],
            "text/plain": [
              "         Date         Open          High  ...        Close    Adj Close       Volume\n",
              "0  22-10-2019  8243.402344   8296.651367  ...  8078.203125  8078.203125  16803377856\n",
              "1  23-10-2019  8076.228516   8092.999512  ...  7514.671875  7514.671875  21942878957\n",
              "2  24-10-2019  7509.728027   7532.867676  ...  7493.488770  7493.488770  16268708848\n",
              "3  25-10-2019  7490.703125   8691.540039  ...  8660.700195  8660.700195  28705065488\n",
              "4  26-10-2019  8667.577148  10021.744140  ...  9244.972656  9244.972656  44496255608\n",
              "5  27-10-2019  9241.707031   9749.529297  ...  9551.714844  9551.714844  32593129500\n",
              "6  28-10-2019  9565.101563   9805.118164  ...  9256.148438  9256.148438  30948255331\n",
              "\n",
              "[7 rows x 7 columns]"
            ]
          },
          "metadata": {
            "tags": []
          },
          "execution_count": 30
        }
      ]
    },
    {
      "cell_type": "code",
      "metadata": {
        "id": "FsNQAbjWLoXn"
      },
      "source": [
        "#Remove the date coloumn\n",
        "df.drop(['Date','High','Low','Close','Adj Close','Volume'],1,inplace=True)"
      ],
      "execution_count": null,
      "outputs": []
    },
    {
      "cell_type": "code",
      "metadata": {
        "id": "GvtWWAh0MRjU",
        "outputId": "5fc4756e-5f93-4809-c886-9e82d2bee190",
        "colab": {
          "base_uri": "https://localhost:8080/",
          "height": 263
        }
      },
      "source": [
        "#Show the first 7 rows of the new data\n",
        "df.head(7)"
      ],
      "execution_count": null,
      "outputs": [
        {
          "output_type": "execute_result",
          "data": {
            "text/html": [
              "<div>\n",
              "<style scoped>\n",
              "    .dataframe tbody tr th:only-of-type {\n",
              "        vertical-align: middle;\n",
              "    }\n",
              "\n",
              "    .dataframe tbody tr th {\n",
              "        vertical-align: top;\n",
              "    }\n",
              "\n",
              "    .dataframe thead th {\n",
              "        text-align: right;\n",
              "    }\n",
              "</style>\n",
              "<table border=\"1\" class=\"dataframe\">\n",
              "  <thead>\n",
              "    <tr style=\"text-align: right;\">\n",
              "      <th></th>\n",
              "      <th>Open</th>\n",
              "    </tr>\n",
              "  </thead>\n",
              "  <tbody>\n",
              "    <tr>\n",
              "      <th>0</th>\n",
              "      <td>8243.402344</td>\n",
              "    </tr>\n",
              "    <tr>\n",
              "      <th>1</th>\n",
              "      <td>8076.228516</td>\n",
              "    </tr>\n",
              "    <tr>\n",
              "      <th>2</th>\n",
              "      <td>7509.728027</td>\n",
              "    </tr>\n",
              "    <tr>\n",
              "      <th>3</th>\n",
              "      <td>7490.703125</td>\n",
              "    </tr>\n",
              "    <tr>\n",
              "      <th>4</th>\n",
              "      <td>8667.577148</td>\n",
              "    </tr>\n",
              "    <tr>\n",
              "      <th>5</th>\n",
              "      <td>9241.707031</td>\n",
              "    </tr>\n",
              "    <tr>\n",
              "      <th>6</th>\n",
              "      <td>9565.101563</td>\n",
              "    </tr>\n",
              "  </tbody>\n",
              "</table>\n",
              "</div>"
            ],
            "text/plain": [
              "          Open\n",
              "0  8243.402344\n",
              "1  8076.228516\n",
              "2  7509.728027\n",
              "3  7490.703125\n",
              "4  8667.577148\n",
              "5  9241.707031\n",
              "6  9565.101563"
            ]
          },
          "metadata": {
            "tags": []
          },
          "execution_count": 32
        }
      ]
    },
    {
      "cell_type": "code",
      "metadata": {
        "id": "JQr5e1YpNLkE"
      },
      "source": [
        "#Replacing open coloumn to price\n",
        "df.rename(columns={'Open':'Price'},inplace=True)"
      ],
      "execution_count": null,
      "outputs": []
    },
    {
      "cell_type": "code",
      "metadata": {
        "id": "DLmkObjJNoNP",
        "outputId": "3de039d2-3bcc-4322-c037-676df577e8a1",
        "colab": {
          "base_uri": "https://localhost:8080/",
          "height": 263
        }
      },
      "source": [
        "df.head(7)"
      ],
      "execution_count": null,
      "outputs": [
        {
          "output_type": "execute_result",
          "data": {
            "text/html": [
              "<div>\n",
              "<style scoped>\n",
              "    .dataframe tbody tr th:only-of-type {\n",
              "        vertical-align: middle;\n",
              "    }\n",
              "\n",
              "    .dataframe tbody tr th {\n",
              "        vertical-align: top;\n",
              "    }\n",
              "\n",
              "    .dataframe thead th {\n",
              "        text-align: right;\n",
              "    }\n",
              "</style>\n",
              "<table border=\"1\" class=\"dataframe\">\n",
              "  <thead>\n",
              "    <tr style=\"text-align: right;\">\n",
              "      <th></th>\n",
              "      <th>Price</th>\n",
              "    </tr>\n",
              "  </thead>\n",
              "  <tbody>\n",
              "    <tr>\n",
              "      <th>0</th>\n",
              "      <td>8243.402344</td>\n",
              "    </tr>\n",
              "    <tr>\n",
              "      <th>1</th>\n",
              "      <td>8076.228516</td>\n",
              "    </tr>\n",
              "    <tr>\n",
              "      <th>2</th>\n",
              "      <td>7509.728027</td>\n",
              "    </tr>\n",
              "    <tr>\n",
              "      <th>3</th>\n",
              "      <td>7490.703125</td>\n",
              "    </tr>\n",
              "    <tr>\n",
              "      <th>4</th>\n",
              "      <td>8667.577148</td>\n",
              "    </tr>\n",
              "    <tr>\n",
              "      <th>5</th>\n",
              "      <td>9241.707031</td>\n",
              "    </tr>\n",
              "    <tr>\n",
              "      <th>6</th>\n",
              "      <td>9565.101563</td>\n",
              "    </tr>\n",
              "  </tbody>\n",
              "</table>\n",
              "</div>"
            ],
            "text/plain": [
              "         Price\n",
              "0  8243.402344\n",
              "1  8076.228516\n",
              "2  7509.728027\n",
              "3  7490.703125\n",
              "4  8667.577148\n",
              "5  9241.707031\n",
              "6  9565.101563"
            ]
          },
          "metadata": {
            "tags": []
          },
          "execution_count": 34
        }
      ]
    },
    {
      "cell_type": "code",
      "metadata": {
        "id": "s2TXNPoUNr4s"
      },
      "source": [
        "# A variable for predicting 'n' days into the future\n",
        "prediction_days = 30\n",
        "\n",
        "#Create another coloumn shifted 'n' days up\n",
        "df['Prediction'] = df[['Price']].shift(-prediction_days)"
      ],
      "execution_count": null,
      "outputs": []
    },
    {
      "cell_type": "code",
      "metadata": {
        "id": "wyXvIXFkOkga",
        "outputId": "9a2f11fd-b024-46ba-9056-0e4ee0d641b9",
        "colab": {
          "base_uri": "https://localhost:8080/",
          "height": 263
        }
      },
      "source": [
        "#Show first 7 rows of new data set\n",
        "df.head(7)"
      ],
      "execution_count": null,
      "outputs": [
        {
          "output_type": "execute_result",
          "data": {
            "text/html": [
              "<div>\n",
              "<style scoped>\n",
              "    .dataframe tbody tr th:only-of-type {\n",
              "        vertical-align: middle;\n",
              "    }\n",
              "\n",
              "    .dataframe tbody tr th {\n",
              "        vertical-align: top;\n",
              "    }\n",
              "\n",
              "    .dataframe thead th {\n",
              "        text-align: right;\n",
              "    }\n",
              "</style>\n",
              "<table border=\"1\" class=\"dataframe\">\n",
              "  <thead>\n",
              "    <tr style=\"text-align: right;\">\n",
              "      <th></th>\n",
              "      <th>Price</th>\n",
              "      <th>Prediction</th>\n",
              "    </tr>\n",
              "  </thead>\n",
              "  <tbody>\n",
              "    <tr>\n",
              "      <th>0</th>\n",
              "      <td>8243.402344</td>\n",
              "      <td>8023.644531</td>\n",
              "    </tr>\n",
              "    <tr>\n",
              "      <th>1</th>\n",
              "      <td>8076.228516</td>\n",
              "      <td>7643.569336</td>\n",
              "    </tr>\n",
              "    <tr>\n",
              "      <th>2</th>\n",
              "      <td>7509.728027</td>\n",
              "      <td>7296.164551</td>\n",
              "    </tr>\n",
              "    <tr>\n",
              "      <th>3</th>\n",
              "      <td>7490.703125</td>\n",
              "      <td>7398.633789</td>\n",
              "    </tr>\n",
              "    <tr>\n",
              "      <th>4</th>\n",
              "      <td>8667.577148</td>\n",
              "      <td>7039.977051</td>\n",
              "    </tr>\n",
              "    <tr>\n",
              "      <th>5</th>\n",
              "      <td>9241.707031</td>\n",
              "      <td>7145.159180</td>\n",
              "    </tr>\n",
              "    <tr>\n",
              "      <th>6</th>\n",
              "      <td>9565.101563</td>\n",
              "      <td>7220.880859</td>\n",
              "    </tr>\n",
              "  </tbody>\n",
              "</table>\n",
              "</div>"
            ],
            "text/plain": [
              "         Price   Prediction\n",
              "0  8243.402344  8023.644531\n",
              "1  8076.228516  7643.569336\n",
              "2  7509.728027  7296.164551\n",
              "3  7490.703125  7398.633789\n",
              "4  8667.577148  7039.977051\n",
              "5  9241.707031  7145.159180\n",
              "6  9565.101563  7220.880859"
            ]
          },
          "metadata": {
            "tags": []
          },
          "execution_count": 36
        }
      ]
    },
    {
      "cell_type": "code",
      "metadata": {
        "id": "5V6aHshgQaN8",
        "outputId": "dfc4a9fc-3fb7-4d85-9d37-bcb2a3db9350",
        "colab": {
          "base_uri": "https://localhost:8080/",
          "height": 263
        }
      },
      "source": [
        "#Show the last 7 rows of new data  set\n",
        "df.tail(7)"
      ],
      "execution_count": null,
      "outputs": [
        {
          "output_type": "execute_result",
          "data": {
            "text/html": [
              "<div>\n",
              "<style scoped>\n",
              "    .dataframe tbody tr th:only-of-type {\n",
              "        vertical-align: middle;\n",
              "    }\n",
              "\n",
              "    .dataframe tbody tr th {\n",
              "        vertical-align: top;\n",
              "    }\n",
              "\n",
              "    .dataframe thead th {\n",
              "        text-align: right;\n",
              "    }\n",
              "</style>\n",
              "<table border=\"1\" class=\"dataframe\">\n",
              "  <thead>\n",
              "    <tr style=\"text-align: right;\">\n",
              "      <th></th>\n",
              "      <th>Price</th>\n",
              "      <th>Prediction</th>\n",
              "    </tr>\n",
              "  </thead>\n",
              "  <tbody>\n",
              "    <tr>\n",
              "      <th>359</th>\n",
              "      <td>11502.82813</td>\n",
              "      <td>NaN</td>\n",
              "    </tr>\n",
              "    <tr>\n",
              "      <th>360</th>\n",
              "      <td>11322.12305</td>\n",
              "      <td>NaN</td>\n",
              "    </tr>\n",
              "    <tr>\n",
              "      <th>361</th>\n",
              "      <td>11355.98242</td>\n",
              "      <td>NaN</td>\n",
              "    </tr>\n",
              "    <tr>\n",
              "      <th>362</th>\n",
              "      <td>11495.03809</td>\n",
              "      <td>NaN</td>\n",
              "    </tr>\n",
              "    <tr>\n",
              "      <th>363</th>\n",
              "      <td>11745.97461</td>\n",
              "      <td>NaN</td>\n",
              "    </tr>\n",
              "    <tr>\n",
              "      <th>364</th>\n",
              "      <td>11913.07715</td>\n",
              "      <td>NaN</td>\n",
              "    </tr>\n",
              "    <tr>\n",
              "      <th>365</th>\n",
              "      <td>11057.00879</td>\n",
              "      <td>NaN</td>\n",
              "    </tr>\n",
              "  </tbody>\n",
              "</table>\n",
              "</div>"
            ],
            "text/plain": [
              "           Price  Prediction\n",
              "359  11502.82813         NaN\n",
              "360  11322.12305         NaN\n",
              "361  11355.98242         NaN\n",
              "362  11495.03809         NaN\n",
              "363  11745.97461         NaN\n",
              "364  11913.07715         NaN\n",
              "365  11057.00879         NaN"
            ]
          },
          "metadata": {
            "tags": []
          },
          "execution_count": 37
        }
      ]
    },
    {
      "cell_type": "code",
      "metadata": {
        "id": "l6O2SAioQw1N",
        "outputId": "0dd05ea6-df34-4fd0-edb0-65fef2975caf",
        "colab": {
          "base_uri": "https://localhost:8080/",
          "height": 1000
        }
      },
      "source": [
        "#Create the independant data set\n",
        "\n",
        "#Convert the dataframe to a numpy array and drop the the prediction coloumn\n",
        "X = np.array(df.drop(['Prediction'],1))\n",
        "\n",
        "#Remove the last 'n' rows where id 'n' is prediction_days\n",
        "X = X[:len(df)-prediction_days]\n",
        "\n",
        "print(X)"
      ],
      "execution_count": null,
      "outputs": [
        {
          "output_type": "stream",
          "text": [
            "[[ 8243.402344]\n",
            " [ 8076.228516]\n",
            " [ 7509.728027]\n",
            " [ 7490.703125]\n",
            " [ 8667.577148]\n",
            " [ 9241.707031]\n",
            " [ 9565.101563]\n",
            " [ 9248.44043 ]\n",
            " [ 9422.462891]\n",
            " [ 9202.458008]\n",
            " [ 9193.992188]\n",
            " [ 9259.783203]\n",
            " [ 9324.787109]\n",
            " [ 9235.607422]\n",
            " [ 9413.004883]\n",
            " [ 9340.864258]\n",
            " [ 9352.393555]\n",
            " [ 9265.368164]\n",
            " [ 8809.46875 ]\n",
            " [ 8812.489258]\n",
            " [ 9056.917969]\n",
            " [ 8759.751953]\n",
            " [ 8812.033203]\n",
            " [ 8811.936523]\n",
            " [ 8705.708008]\n",
            " [ 8491.166016]\n",
            " [ 8549.470703]\n",
            " [ 8573.980469]\n",
            " [ 8305.134766]\n",
            " [ 8203.613281]\n",
            " [ 8023.644531]\n",
            " [ 7643.569336]\n",
            " [ 7296.164551]\n",
            " [ 7398.633789]\n",
            " [ 7039.977051]\n",
            " [ 7145.15918 ]\n",
            " [ 7220.880859]\n",
            " [ 7536.820313]\n",
            " [ 7466.727051]\n",
            " [ 7764.057129]\n",
            " [ 7571.616211]\n",
            " [ 7424.036133]\n",
            " [ 7323.975586]\n",
            " [ 7320.125   ]\n",
            " [ 7253.241699]\n",
            " [ 7450.561523]\n",
            " [ 7547.265625]\n",
            " [ 7551.338867]\n",
            " [ 7561.79541 ]\n",
            " [ 7397.134277]\n",
            " [ 7277.197754]\n",
            " [ 7216.73877 ]\n",
            " [ 7244.662109]\n",
            " [ 7268.902832]\n",
            " [ 7124.239746]\n",
            " [ 7153.663086]\n",
            " [ 6931.31543 ]\n",
            " [ 6647.698242]\n",
            " [ 7277.59082 ]\n",
            " [ 7208.636719]\n",
            " [ 7220.59375 ]\n",
            " [ 7191.188477]\n",
            " [ 7508.902344]\n",
            " [ 7354.393066]\n",
            " [ 7325.755859]\n",
            " [ 7274.799316]\n",
            " [ 7238.141113]\n",
            " [ 7289.03125 ]\n",
            " [ 7317.647461]\n",
            " [ 7420.272949]\n",
            " [ 7294.438965]\n",
            " [ 7194.89209 ]\n",
            " [ 7202.55127 ]\n",
            " [ 6984.428711]\n",
            " [ 7345.375488]\n",
            " [ 7410.45166 ]\n",
            " [ 7410.452148]\n",
            " [ 7768.682129]\n",
            " [ 8161.935547]\n",
            " [ 8082.295898]\n",
            " [ 7878.307617]\n",
            " [ 8162.190918]\n",
            " [ 8033.261719]\n",
            " [ 8189.771973]\n",
            " [ 8140.933105]\n",
            " [ 8825.34375 ]\n",
            " [ 8812.481445]\n",
            " [ 8725.209961]\n",
            " [ 8927.211914]\n",
            " [ 8941.445313]\n",
            " [ 8704.631836]\n",
            " [ 8658.991211]\n",
            " [ 8744.210938]\n",
            " [ 8680.650391]\n",
            " [ 8405.567383]\n",
            " [ 8440.119141]\n",
            " [ 8364.410156]\n",
            " [ 8597.308594]\n",
            " [ 8912.524414]\n",
            " [ 9357.470703]\n",
            " [ 9316.016602]\n",
            " [ 9508.313477]\n",
            " [ 9346.357422]\n",
            " [ 9389.820313]\n",
            " [ 9344.683594]\n",
            " [ 9292.841797]\n",
            " [ 9183.416016]\n",
            " [ 9617.821289]\n",
            " [ 9726.00293 ]\n",
            " [ 9793.070313]\n",
            " [ 9863.894531]\n",
            " [10115.55957 ]\n",
            " [ 9855.891602]\n",
            " [10202.3877  ]\n",
            " [10323.96094 ]\n",
            " [10211.55078 ]\n",
            " [10313.85645 ]\n",
            " [ 9889.179688]\n",
            " [ 9936.560547]\n",
            " [ 9691.230469]\n",
            " [10143.79883 ]\n",
            " [ 9629.325195]\n",
            " [ 9611.782227]\n",
            " [ 9687.707031]\n",
            " [ 9663.318359]\n",
            " [ 9921.583008]\n",
            " [ 9651.3125  ]\n",
            " [ 9338.290039]\n",
            " [ 8825.09375 ]\n",
            " [ 8788.728516]\n",
            " [ 8671.212891]\n",
            " [ 8599.758789]\n",
            " [ 8563.264648]\n",
            " [ 8865.387695]\n",
            " [ 8788.541992]\n",
            " [ 8760.285156]\n",
            " [ 9078.308594]\n",
            " [ 9121.600586]\n",
            " [ 8908.206055]\n",
            " [ 8111.146484]\n",
            " [ 7922.146973]\n",
            " [ 7910.089844]\n",
            " [ 7913.616211]\n",
            " [ 5017.831055]\n",
            " [ 5573.077637]\n",
            " [ 5201.066895]\n",
            " [ 5385.229492]\n",
            " [ 5002.578125]\n",
            " [ 5227.11377 ]\n",
            " [ 5245.416504]\n",
            " [ 6191.653809]\n",
            " [ 6206.521484]\n",
            " [ 6185.558105]\n",
            " [ 5831.374512]\n",
            " [ 6436.642578]\n",
            " [ 6738.716797]\n",
            " [ 6675.170898]\n",
            " [ 6719.38916 ]\n",
            " [ 6467.253906]\n",
            " [ 6245.624512]\n",
            " [ 5925.538574]\n",
            " [ 6430.606445]\n",
            " [ 6437.319336]\n",
            " [ 6606.776367]\n",
            " [ 6797.396484]\n",
            " [ 6738.382813]\n",
            " [ 6862.537598]\n",
            " [ 6788.049805]\n",
            " [ 7273.644043]\n",
            " [ 7179.283203]\n",
            " [ 7337.966309]\n",
            " [ 7303.81543 ]\n",
            " [ 6867.44043 ]\n",
            " [ 6858.067871]\n",
            " [ 6965.616699]\n",
            " [ 6843.281738]\n",
            " [ 6845.561523]\n",
            " [ 6640.454102]\n",
            " [ 7116.552734]\n",
            " [ 7092.291504]\n",
            " [ 7260.922363]\n",
            " [ 7186.873535]\n",
            " [ 6879.78418 ]\n",
            " [ 6879.44043 ]\n",
            " [ 7121.306152]\n",
            " [ 7434.181641]\n",
            " [ 7550.48291 ]\n",
            " [ 7570.13916 ]\n",
            " [ 7679.418945]\n",
            " [ 7796.970215]\n",
            " [ 7806.712402]\n",
            " [ 8797.669922]\n",
            " [ 8672.782227]\n",
            " [ 8869.057617]\n",
            " [ 8983.614258]\n",
            " [ 8895.745117]\n",
            " [ 8912.832031]\n",
            " [ 9007.441406]\n",
            " [ 9261.895508]\n",
            " [ 9936.162109]\n",
            " [ 9840.90625 ]\n",
            " [ 9591.168945]\n",
            " [ 8755.535156]\n",
            " [ 8610.385742]\n",
            " [ 8805.387695]\n",
            " [ 9271.329102]\n",
            " [ 9734.291016]\n",
            " [ 9333.240234]\n",
            " [ 9374.929688]\n",
            " [ 9675.695313]\n",
            " [ 9727.063477]\n",
            " [ 9725.329102]\n",
            " [ 9522.740234]\n",
            " [ 9080.334961]\n",
            " [ 9185.0625  ]\n",
            " [ 9212.283203]\n",
            " [ 8786.107422]\n",
            " [ 8909.585938]\n",
            " [ 8837.380859]\n",
            " [ 9184.945313]\n",
            " [ 9528.355469]\n",
            " [ 9438.914063]\n",
            " [ 9700.105469]\n",
            " [ 9463.605469]\n",
            " [10162.97363 ]\n",
            " [ 9533.760742]\n",
            " [ 9655.854492]\n",
            " [ 9800.21582 ]\n",
            " [ 9664.904297]\n",
            " [ 9653.00293 ]\n",
            " [ 9760.063477]\n",
            " [ 9774.360352]\n",
            " [ 9794.119141]\n",
            " [ 9870.078125]\n",
            " [ 9320.69043 ]\n",
            " [ 9480.735352]\n",
            " [ 9477.553711]\n",
            " [ 9386.035156]\n",
            " [ 9454.266602]\n",
            " [ 9533.78418 ]\n",
            " [ 9481.567383]\n",
            " [ 9410.293945]\n",
            " [ 9290.959961]\n",
            " [ 9330.926758]\n",
            " [ 9300.915039]\n",
            " [ 9644.076172]\n",
            " [ 9632.149414]\n",
            " [ 9314.126953]\n",
            " [ 9260.995117]\n",
            " [ 9167.824219]\n",
            " [ 9048.460938]\n",
            " [ 9140.029297]\n",
            " [ 9185.581055]\n",
            " [ 9145.985352]\n",
            " [ 9231.139648]\n",
            " [ 9124.842773]\n",
            " [ 9084.233398]\n",
            " [ 9126.09082 ]\n",
            " [ 9072.849609]\n",
            " [ 9349.161133]\n",
            " [ 9253.020508]\n",
            " [ 9427.994141]\n",
            " [ 9273.357422]\n",
            " [ 9277.511719]\n",
            " [ 9241.054688]\n",
            " [ 9277.205078]\n",
            " [ 9238.703125]\n",
            " [ 9241.897461]\n",
            " [ 9191.980469]\n",
            " [ 9131.8125  ]\n",
            " [ 9151.183594]\n",
            " [ 9158.005859]\n",
            " [ 9187.220703]\n",
            " [ 9162.514648]\n",
            " [ 9375.080078]\n",
            " [ 9527.141602]\n",
            " [ 9585.514648]\n",
            " [ 9539.485352]\n",
            " [ 9680.234375]\n",
            " [ 9905.217773]\n",
            " [11017.46387 ]\n",
            " [10912.95313 ]\n",
            " [11099.83301 ]\n",
            " [11110.21094 ]\n",
            " [11322.57031 ]\n",
            " [11758.76465 ]\n",
            " [11043.76856 ]\n",
            " [11203.82324 ]\n",
            " [11749.87109 ]\n",
            " [11778.89453 ]\n",
            " [11604.55371 ]\n",
            " [11737.3252  ]\n",
            " [11662.25684 ]\n",
            " [11881.64746 ]\n",
            " [11404.59668 ]\n",
            " [11588.40527 ]\n",
            " [11772.65918 ]\n",
            " [11768.69727 ]\n",
            " [11866.68555 ]\n",
            " [11895.6582  ]\n",
            " [12251.89551 ]\n",
            " [11990.88477 ]\n",
            " [11761.5     ]\n",
            " [11878.02637 ]\n",
            " [11585.47754 ]\n",
            " [11679.69629 ]\n",
            " [11663.68945 ]\n",
            " [11773.58887 ]\n",
            " [11366.89453 ]\n",
            " [11485.6084  ]\n",
            " [11325.2959  ]\n",
            " [11541.05469 ]\n",
            " [11508.71387 ]\n",
            " [11713.30664 ]\n",
            " [11679.31641 ]\n",
            " [11964.82324 ]\n",
            " [11407.19141 ]\n",
            " [10230.36523 ]\n",
            " [10512.53027 ]\n",
            " [10167.2168  ]\n",
            " [10280.99805 ]\n",
            " [10369.30664 ]\n",
            " [10134.15137 ]\n",
            " [10242.33008 ]\n",
            " [10369.02832 ]\n",
            " [10409.86133 ]\n",
            " [10452.39941 ]\n",
            " [10328.73438 ]\n",
            " [10677.75488 ]\n",
            " [10797.76172 ]\n",
            " [10973.25195 ]\n",
            " [10951.82031 ]\n",
            " [10933.75293 ]\n",
            " [11095.87012 ]\n",
            " [10934.92578 ]\n",
            " [10459.62402 ]]\n"
          ],
          "name": "stdout"
        }
      ]
    },
    {
      "cell_type": "code",
      "metadata": {
        "id": "MYSneqFvSHkp",
        "outputId": "5a62df23-6a9a-431b-e335-53cfde4aeeea",
        "colab": {
          "base_uri": "https://localhost:8080/",
          "height": 1000
        }
      },
      "source": [
        "#Create the dependant data set\n",
        "\n",
        "# Convert the dataframe to a numpy array\n",
        "y = np.array(df['Prediction'])\n",
        "\n",
        "# Get all of the values except the last 'n' rows\n",
        "y = y[:-prediction_days]\n",
        "print(y)"
      ],
      "execution_count": null,
      "outputs": [
        {
          "output_type": "stream",
          "text": [
            "[ 8023.644531  7643.569336  7296.164551  7398.633789  7039.977051\n",
            "  7145.15918   7220.880859  7536.820313  7466.727051  7764.057129\n",
            "  7571.616211  7424.036133  7323.975586  7320.125     7253.241699\n",
            "  7450.561523  7547.265625  7551.338867  7561.79541   7397.134277\n",
            "  7277.197754  7216.73877   7244.662109  7268.902832  7124.239746\n",
            "  7153.663086  6931.31543   6647.698242  7277.59082   7208.636719\n",
            "  7220.59375   7191.188477  7508.902344  7354.393066  7325.755859\n",
            "  7274.799316  7238.141113  7289.03125   7317.647461  7420.272949\n",
            "  7294.438965  7194.89209   7202.55127   6984.428711  7345.375488\n",
            "  7410.45166   7410.452148  7768.682129  8161.935547  8082.295898\n",
            "  7878.307617  8162.190918  8033.261719  8189.771973  8140.933105\n",
            "  8825.34375   8812.481445  8725.209961  8927.211914  8941.445313\n",
            "  8704.631836  8658.991211  8744.210938  8680.650391  8405.567383\n",
            "  8440.119141  8364.410156  8597.308594  8912.524414  9357.470703\n",
            "  9316.016602  9508.313477  9346.357422  9389.820313  9344.683594\n",
            "  9292.841797  9183.416016  9617.821289  9726.00293   9793.070313\n",
            "  9863.894531 10115.55957   9855.891602 10202.3877   10323.96094\n",
            " 10211.55078  10313.85645   9889.179688  9936.560547  9691.230469\n",
            " 10143.79883   9629.325195  9611.782227  9687.707031  9663.318359\n",
            "  9921.583008  9651.3125    9338.290039  8825.09375   8788.728516\n",
            "  8671.212891  8599.758789  8563.264648  8865.387695  8788.541992\n",
            "  8760.285156  9078.308594  9121.600586  8908.206055  8111.146484\n",
            "  7922.146973  7910.089844  7913.616211  5017.831055  5573.077637\n",
            "  5201.066895  5385.229492  5002.578125  5227.11377   5245.416504\n",
            "  6191.653809  6206.521484  6185.558105  5831.374512  6436.642578\n",
            "  6738.716797  6675.170898  6719.38916   6467.253906  6245.624512\n",
            "  5925.538574  6430.606445  6437.319336  6606.776367  6797.396484\n",
            "  6738.382813  6862.537598  6788.049805  7273.644043  7179.283203\n",
            "  7337.966309  7303.81543   6867.44043   6858.067871  6965.616699\n",
            "  6843.281738  6845.561523  6640.454102  7116.552734  7092.291504\n",
            "  7260.922363  7186.873535  6879.78418   6879.44043   7121.306152\n",
            "  7434.181641  7550.48291   7570.13916   7679.418945  7796.970215\n",
            "  7806.712402  8797.669922  8672.782227  8869.057617  8983.614258\n",
            "  8895.745117  8912.832031  9007.441406  9261.895508  9936.162109\n",
            "  9840.90625   9591.168945  8755.535156  8610.385742  8805.387695\n",
            "  9271.329102  9734.291016  9333.240234  9374.929688  9675.695313\n",
            "  9727.063477  9725.329102  9522.740234  9080.334961  9185.0625\n",
            "  9212.283203  8786.107422  8909.585938  8837.380859  9184.945313\n",
            "  9528.355469  9438.914063  9700.105469  9463.605469 10162.97363\n",
            "  9533.760742  9655.854492  9800.21582   9664.904297  9653.00293\n",
            "  9760.063477  9774.360352  9794.119141  9870.078125  9320.69043\n",
            "  9480.735352  9477.553711  9386.035156  9454.266602  9533.78418\n",
            "  9481.567383  9410.293945  9290.959961  9330.926758  9300.915039\n",
            "  9644.076172  9632.149414  9314.126953  9260.995117  9167.824219\n",
            "  9048.460938  9140.029297  9185.581055  9145.985352  9231.139648\n",
            "  9124.842773  9084.233398  9126.09082   9072.849609  9349.161133\n",
            "  9253.020508  9427.994141  9273.357422  9277.511719  9241.054688\n",
            "  9277.205078  9238.703125  9241.897461  9191.980469  9131.8125\n",
            "  9151.183594  9158.005859  9187.220703  9162.514648  9375.080078\n",
            "  9527.141602  9585.514648  9539.485352  9680.234375  9905.217773\n",
            " 11017.46387  10912.95313  11099.83301  11110.21094  11322.57031\n",
            " 11758.76465  11043.76856  11203.82324  11749.87109  11778.89453\n",
            " 11604.55371  11737.3252   11662.25684  11881.64746  11404.59668\n",
            " 11588.40527  11772.65918  11768.69727  11866.68555  11895.6582\n",
            " 12251.89551  11990.88477  11761.5      11878.02637  11585.47754\n",
            " 11679.69629  11663.68945  11773.58887  11366.89453  11485.6084\n",
            " 11325.2959   11541.05469  11508.71387  11713.30664  11679.31641\n",
            " 11964.82324  11407.19141  10230.36523  10512.53027  10167.2168\n",
            " 10280.99805  10369.30664  10134.15137  10242.33008  10369.02832\n",
            " 10409.86133  10452.39941  10328.73438  10677.75488  10797.76172\n",
            " 10973.25195  10951.82031  10933.75293  11095.87012  10934.92578\n",
            " 10459.62402  10539.45703  10227.47949  10747.47266  10702.23731\n",
            " 10752.93945  10771.6416   10712.46289  10845.41113  10785.01074\n",
            " 10624.39063  10583.80664  10567.91992  10688.03418  10799.77832\n",
            " 10619.80371  10677.625    10925.44434  11059.14258  11296.08203\n",
            " 11392.63574  11548.71973  11429.04785  11426.60254  11502.82813\n",
            " 11322.12305  11355.98242  11495.03809  11745.97461  11913.07715\n",
            " 11057.00879 ]\n"
          ],
          "name": "stdout"
        }
      ]
    },
    {
      "cell_type": "code",
      "metadata": {
        "id": "dkgf1zSRTM8e"
      },
      "source": [
        "#Split the data into 80% training and 20% testing\n",
        "from sklearn.model_selection import train_test_split\n",
        "x_train, x_test, y_train, y_test = train_test_split(X,y, test_size = 0.1)"
      ],
      "execution_count": null,
      "outputs": []
    },
    {
      "cell_type": "code",
      "metadata": {
        "id": "re0CzM83UMw5",
        "outputId": "9eda2c9e-3f2c-408b-943c-9670125c27af",
        "colab": {
          "base_uri": "https://localhost:8080/",
          "height": 537
        }
      },
      "source": [
        "#Set the prediction_days_array equal to last 30 rows from the original dataset\n",
        "prediction_days_array = np.array(df.drop(['Prediction'],1))[-prediction_days:]\n",
        "print(prediction_days_array)"
      ],
      "execution_count": null,
      "outputs": [
        {
          "output_type": "stream",
          "text": [
            "[[10539.45703]\n",
            " [10227.47949]\n",
            " [10747.47266]\n",
            " [10702.23731]\n",
            " [10752.93945]\n",
            " [10771.6416 ]\n",
            " [10712.46289]\n",
            " [10845.41113]\n",
            " [10785.01074]\n",
            " [10624.39063]\n",
            " [10583.80664]\n",
            " [10567.91992]\n",
            " [10688.03418]\n",
            " [10799.77832]\n",
            " [10619.80371]\n",
            " [10677.625  ]\n",
            " [10925.44434]\n",
            " [11059.14258]\n",
            " [11296.08203]\n",
            " [11392.63574]\n",
            " [11548.71973]\n",
            " [11429.04785]\n",
            " [11426.60254]\n",
            " [11502.82813]\n",
            " [11322.12305]\n",
            " [11355.98242]\n",
            " [11495.03809]\n",
            " [11745.97461]\n",
            " [11913.07715]\n",
            " [11057.00879]]\n"
          ],
          "name": "stdout"
        }
      ]
    },
    {
      "cell_type": "code",
      "metadata": {
        "id": "cBd5C1qJJxt3",
        "outputId": "c6ff65e5-6aff-48e8-8b0d-706cd7e2c5b2",
        "colab": {
          "base_uri": "https://localhost:8080/",
          "height": 52
        }
      },
      "source": [
        "from sklearn.svm import SVR\n",
        "\n",
        "#Create and train Support Vector Machine(Regression) using radial basis function\n",
        "svr_rbf = SVR(kernel ='rbf', C = 1e3, gamma = 0.00001)\n",
        "svr_rbf.fit(x_train, y_train)"
      ],
      "execution_count": null,
      "outputs": [
        {
          "output_type": "execute_result",
          "data": {
            "text/plain": [
              "SVR(C=1000.0, cache_size=200, coef0=0.0, degree=3, epsilon=0.1, gamma=1e-05,\n",
              "    kernel='rbf', max_iter=-1, shrinking=True, tol=0.001, verbose=False)"
            ]
          },
          "metadata": {
            "tags": []
          },
          "execution_count": 48
        }
      ]
    },
    {
      "cell_type": "code",
      "metadata": {
        "id": "tSWzuPAycflh",
        "outputId": "26791a6f-471d-4f1f-9b1a-a1108f589a67",
        "colab": {
          "base_uri": "https://localhost:8080/",
          "height": 35
        }
      },
      "source": [
        "#Test the model\n",
        "svr_rbf_confidence = svr_rbf.score(x_test, y_test)\n",
        "print(\"svr_rbf accuracy: \", svr_rbf_confidence )"
      ],
      "execution_count": null,
      "outputs": [
        {
          "output_type": "stream",
          "text": [
            "svr_rbf accuracy:  0.3049344750857964\n"
          ],
          "name": "stdout"
        }
      ]
    },
    {
      "cell_type": "code",
      "metadata": {
        "id": "dVdwN06OuaVf",
        "outputId": "f2161fb5-f0d5-4a65-e602-5518c17fff6c",
        "colab": {
          "base_uri": "https://localhost:8080/",
          "height": 312
        }
      },
      "source": [
        "#Print the predicted values\n",
        "svm_prediction = svr_rbf.predict(x_test)\n",
        "print(svm_prediction)\n",
        "\n",
        "print()\n",
        "\n",
        "#Print the actual values\n",
        "print(y_test)"
      ],
      "execution_count": null,
      "outputs": [
        {
          "output_type": "stream",
          "text": [
            "[ 9604.71438698  8350.75038194  9159.005718    8138.35740423\n",
            "  8125.06513917 10424.15949095  7799.37120668  9003.99530166\n",
            "  8495.6573121   8449.61501946  8355.17593167  8115.00357996\n",
            "  9090.35542229 10216.40179794  9188.26146774  9189.7292046\n",
            "  9186.16792752  9189.63761957 10443.56162687  7791.41226419\n",
            "  9135.32806899  8938.82032758 10225.91200664  9015.64981067\n",
            "  8516.93169035 10472.23544377  9653.73453857  7792.91402828\n",
            " 10660.09048299 11437.53544282  9181.90085597  8770.91441731\n",
            "  8729.38176468  9166.95846549]\n",
            "\n",
            "[11604.55371   9629.325195  9253.020508  7410.452148  7289.03125\n",
            " 10845.41113   7796.970215  6467.253906  9591.168945  6984.428711\n",
            "  9700.105469  8797.669922 11737.3252   11758.76465   5831.374512\n",
            "  9533.78418   9585.514648  9349.161133 11964.82324   7186.873535\n",
            "  8111.146484  7153.663086  6788.049805  6738.716797  7508.902344\n",
            " 10712.46289   8825.09375   7260.922363 10747.47266  11325.2959\n",
            "  9121.600586  9725.329102  8941.445313 11663.68945 ]\n"
          ],
          "name": "stdout"
        }
      ]
    },
    {
      "cell_type": "code",
      "metadata": {
        "id": "N76nlc7CvRee",
        "outputId": "4d98adad-fcac-4644-e21f-437170afd8e8",
        "colab": {
          "base_uri": "https://localhost:8080/",
          "height": 711
        }
      },
      "source": [
        "#Print the prediction for next 'n=30' days\n",
        "svm_prediction = svr_rbf.predict(prediction_days_array)\n",
        "print(svm_prediction)\n",
        "\n",
        "print()\n",
        "\n",
        "#Print the actual price for Bitcoin for the last 30 days\n",
        "print(df.tail(prediction_days))"
      ],
      "execution_count": null,
      "outputs": [
        {
          "output_type": "stream",
          "text": [
            "[11254.3407618   9809.89567489 11474.94478482 11445.78909188\n",
            " 11477.88830784 11486.97692069 11453.11674117 11507.18163423\n",
            " 11492.52205963 11375.21051118 11325.26175883 11302.17970218\n",
            " 11434.90216222 11497.70006772 11370.11502249 11426.39377844\n",
            " 11498.15188667 11386.49436618 10826.50013598 10611.26420437\n",
            " 10448.09880151 10554.04538012 10557.45981499 10476.58093965\n",
            " 10760.54117926 10682.83866822 10482.690839   10436.60648081\n",
            " 10612.14703705 11389.52303769]\n",
            "\n",
            "           Price  Prediction\n",
            "336  10539.45703         NaN\n",
            "337  10227.47949         NaN\n",
            "338  10747.47266         NaN\n",
            "339  10702.23731         NaN\n",
            "340  10752.93945         NaN\n",
            "341  10771.64160         NaN\n",
            "342  10712.46289         NaN\n",
            "343  10845.41113         NaN\n",
            "344  10785.01074         NaN\n",
            "345  10624.39063         NaN\n",
            "346  10583.80664         NaN\n",
            "347  10567.91992         NaN\n",
            "348  10688.03418         NaN\n",
            "349  10799.77832         NaN\n",
            "350  10619.80371         NaN\n",
            "351  10677.62500         NaN\n",
            "352  10925.44434         NaN\n",
            "353  11059.14258         NaN\n",
            "354  11296.08203         NaN\n",
            "355  11392.63574         NaN\n",
            "356  11548.71973         NaN\n",
            "357  11429.04785         NaN\n",
            "358  11426.60254         NaN\n",
            "359  11502.82813         NaN\n",
            "360  11322.12305         NaN\n",
            "361  11355.98242         NaN\n",
            "362  11495.03809         NaN\n",
            "363  11745.97461         NaN\n",
            "364  11913.07715         NaN\n",
            "365  11057.00879         NaN\n"
          ],
          "name": "stdout"
        }
      ]
    }
  ]
}